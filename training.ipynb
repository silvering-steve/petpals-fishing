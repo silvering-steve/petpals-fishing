{
 "cells": [
  {
   "cell_type": "code",
   "execution_count": null,
   "id": "dd5d688664dd14aa",
   "metadata": {
    "collapsed": false
   },
   "outputs": [],
   "source": [
    "%pip install torch torchvision ultralytics\n",
    "%pip install glob tqdm"
   ]
  },
  {
   "cell_type": "code",
   "execution_count": 1,
   "id": "initial_id",
   "metadata": {
    "ExecuteTime": {
     "end_time": "2023-10-29T13:09:38.895765600Z",
     "start_time": "2023-10-29T13:09:35.423099Z"
    },
    "collapsed": true
   },
   "outputs": [],
   "source": [
    "from ultralytics import YOLO\n",
    "\n",
    "from glob import glob\n",
    "from tqdm import tqdm\n",
    "import shutil\n",
    "import os"
   ]
  },
  {
   "cell_type": "code",
   "execution_count": 12,
   "id": "788149fcfa4b9010",
   "metadata": {
    "ExecuteTime": {
     "end_time": "2023-10-29T14:54:49.321191900Z",
     "start_time": "2023-10-29T14:54:49.313682700Z"
    },
    "collapsed": false
   },
   "outputs": [],
   "source": [
    "IMAGE_PATH = \"datasets/raw/images3/\"\n",
    "LABEL_PATH = \"datasets/raw/labels3/\"\n",
    "\n",
    "TRAIN_PATH = \"datasets/train3\"\n",
    "VALID_PATH = \"datasets/valid\""
   ]
  },
  {
   "cell_type": "code",
   "execution_count": 13,
   "id": "50eb2b144d07c3f",
   "metadata": {
    "ExecuteTime": {
     "end_time": "2023-10-29T14:54:51.561770900Z",
     "start_time": "2023-10-29T14:54:50.797622400Z"
    },
    "collapsed": false
   },
   "outputs": [
    {
     "name": "stderr",
     "output_type": "stream",
     "text": [
      "100%|██████████| 717/717 [00:00<00:00, 968.13it/s] \n"
     ]
    }
   ],
   "source": [
    "os.makedirs(TRAIN_PATH, exist_ok=True)\n",
    "os.makedirs(VALID_PATH, exist_ok=True)\n",
    "\n",
    "os.makedirs(f\"{TRAIN_PATH}/images\", exist_ok=True)\n",
    "os.makedirs(f\"{TRAIN_PATH}/labels\", exist_ok=True)\n",
    "\n",
    "# os.makedirs(f\"{VALID_PATH}/images\", exist_ok=True)\n",
    "# os.makedirs(f\"{VALID_PATH}/labels\", exist_ok=True)\n",
    "\n",
    "for image in tqdm(glob(f\"{IMAGE_PATH}/*.jpg\")):\n",
    "    file_name = image.split(\"\\\\\")[-1].split(\".\")[0]\n",
    "\n",
    "    if os.path.isfile(f\"{LABEL_PATH}/{file_name}.txt\"):\n",
    "        shutil.copy(image, f\"{TRAIN_PATH}/images\")\n",
    "        shutil.copy(f\"{LABEL_PATH}/{file_name}.txt\", f\"{TRAIN_PATH}/labels\")"
   ]
  },
  {
   "cell_type": "code",
   "execution_count": 2,
   "id": "4a89e80c4baaded5",
   "metadata": {
    "ExecuteTime": {
     "end_time": "2023-10-29T14:21:39.347230100Z",
     "start_time": "2023-10-29T14:21:39.264510300Z"
    },
    "collapsed": false
   },
   "outputs": [],
   "source": [
    "model = YOLO('models/yolov8/best3.pt')"
   ]
  },
  {
   "cell_type": "code",
   "execution_count": null,
   "id": "1de4c4c82f675406",
   "metadata": {
    "collapsed": false,
    "is_executing": true
   },
   "outputs": [],
   "source": [
    "model.train(\n",
    "    data=\"datasets/data.yaml\",\n",
    "    model='models/yolov8/best3.pt',\n",
    "    epochs=100,\n",
    "    patience=20,\n",
    "    imgsz=256\n",
    ")"
   ]
  }
 ],
 "metadata": {
  "kernelspec": {
   "display_name": "Python 3",
   "language": "python",
   "name": "python3"
  },
  "language_info": {
   "codemirror_mode": {
    "name": "ipython",
    "version": 3
   },
   "file_extension": ".py",
   "mimetype": "text/x-python",
   "name": "python",
   "nbconvert_exporter": "python",
   "pygments_lexer": "ipython3",
   "version": "3.10.13"
  }
 },
 "nbformat": 4,
 "nbformat_minor": 5
}
