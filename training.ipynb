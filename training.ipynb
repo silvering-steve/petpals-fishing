{
 "cells": [
  {
   "cell_type": "code",
   "execution_count": null,
   "outputs": [],
   "source": [
    "!pip install torch torchvision ultralytics\n",
    "!pip install glob tqdm"
   ],
   "metadata": {
    "collapsed": false
   },
   "id": "dd5d688664dd14aa"
  },
  {
   "cell_type": "code",
   "execution_count": 1,
   "id": "initial_id",
   "metadata": {
    "collapsed": true,
    "ExecuteTime": {
     "end_time": "2023-10-29T13:09:38.895765600Z",
     "start_time": "2023-10-29T13:09:35.423099Z"
    }
   },
   "outputs": [],
   "source": [
    "from ultralytics import YOLO\n",
    "\n",
    "from glob import glob\n",
    "from tqdm import tqdm\n",
    "import shutil\n",
    "import os"
   ]
  },
  {
   "cell_type": "code",
   "execution_count": 7,
   "outputs": [],
   "source": [
    "IMAGE_PATH = \"datasets/raw/images2/\"\n",
    "LABEL_PATH = \"datasets/raw/labels2/\"\n",
    "\n",
    "TRAIN_PATH = \"datasets/train2\"\n",
    "VALID_PATH = \"datasets/valid\""
   ],
   "metadata": {
    "collapsed": false,
    "ExecuteTime": {
     "end_time": "2023-10-29T13:14:04.284013500Z",
     "start_time": "2023-10-29T13:14:04.277500700Z"
    }
   },
   "id": "788149fcfa4b9010"
  },
  {
   "cell_type": "code",
   "execution_count": 8,
   "outputs": [
    {
     "name": "stderr",
     "output_type": "stream",
     "text": [
      "100%|██████████| 421/421 [00:00<00:00, 1141.54it/s]\n"
     ]
    }
   ],
   "source": [
    "os.makedirs(TRAIN_PATH, exist_ok=True)\n",
    "os.makedirs(VALID_PATH, exist_ok=True)\n",
    "\n",
    "os.makedirs(f\"{TRAIN_PATH}/images\", exist_ok=True)\n",
    "os.makedirs(f\"{TRAIN_PATH}/labels\", exist_ok=True)\n",
    "\n",
    "# os.makedirs(f\"{VALID_PATH}/images\", exist_ok=True)\n",
    "# os.makedirs(f\"{VALID_PATH}/labels\", exist_ok=True)\n",
    "\n",
    "for image in tqdm(glob(f\"{IMAGE_PATH}/*.jpg\")):\n",
    "    file_name = image.split(\"\\\\\")[-1].split(\".\")[0]\n",
    "\n",
    "    if os.path.isfile(f\"{LABEL_PATH}/{file_name}.txt\"):\n",
    "        shutil.copy(image, f\"{TRAIN_PATH}/images\")\n",
    "        shutil.copy(f\"{LABEL_PATH}/{file_name}.txt\", f\"{TRAIN_PATH}/labels\")"
   ],
   "metadata": {
    "collapsed": false,
    "ExecuteTime": {
     "end_time": "2023-10-29T13:14:05.019524600Z",
     "start_time": "2023-10-29T13:14:04.640208500Z"
    }
   },
   "id": "50eb2b144d07c3f"
  },
  {
   "cell_type": "code",
   "execution_count": 3,
   "outputs": [],
   "source": [
    "model = YOLO('models/yolov8/best.pt')"
   ],
   "metadata": {
    "collapsed": false,
    "ExecuteTime": {
     "end_time": "2023-10-29T03:59:15.941497300Z",
     "start_time": "2023-10-29T03:59:15.910911200Z"
    }
   },
   "id": "4a89e80c4baaded5"
  },
  {
   "cell_type": "code",
   "execution_count": null,
   "outputs": [],
   "source": [
    "model.train(\n",
    "    data=\"datasets/data.yaml\",\n",
    "    epochs=100,\n",
    "    patience=20,\n",
    "    imgsz=256\n",
    ")"
   ],
   "metadata": {
    "collapsed": false,
    "is_executing": true
   },
   "id": "1de4c4c82f675406"
  }
 ],
 "metadata": {
  "kernelspec": {
   "display_name": "Python 3",
   "language": "python",
   "name": "python3"
  },
  "language_info": {
   "codemirror_mode": {
    "name": "ipython",
    "version": 2
   },
   "file_extension": ".py",
   "mimetype": "text/x-python",
   "name": "python",
   "nbconvert_exporter": "python",
   "pygments_lexer": "ipython2",
   "version": "2.7.6"
  }
 },
 "nbformat": 4,
 "nbformat_minor": 5
}
