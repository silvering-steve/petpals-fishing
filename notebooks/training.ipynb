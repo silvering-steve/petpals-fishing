{
 "cells": [
  {
   "cell_type": "code",
   "execution_count": null,
   "id": "dd5d688664dd14aa",
   "metadata": {
    "collapsed": false
   },
   "outputs": [],
   "source": [
    "%pip install torch torchvision ultralytics\n",
    "%pip install glob tqdm"
   ]
  },
  {
   "cell_type": "code",
   "execution_count": 1,
   "id": "initial_id",
   "metadata": {
    "ExecuteTime": {
     "end_time": "2023-10-29T13:09:38.895765600Z",
     "start_time": "2023-10-29T13:09:35.423099Z"
    },
    "collapsed": true
   },
   "outputs": [],
   "source": [
    "from ultralytics import YOLO\n",
    "\n",
    "from glob import glob\n",
    "from tqdm import tqdm\n",
    "import shutil\n",
    "import os"
   ]
  },
  {
   "cell_type": "code",
   "execution_count": 12,
   "id": "788149fcfa4b9010",
   "metadata": {
    "ExecuteTime": {
     "end_time": "2023-10-29T14:54:49.321191900Z",
     "start_time": "2023-10-29T14:54:49.313682700Z"
    },
    "collapsed": false
   },
   "outputs": [],
   "source": [
    "IMAGE_PATH = \"datasets/raw/images3/\"\n",
    "LABEL_PATH = \"datasets/raw/labels3/\"\n",
    "\n",
    "TRAIN_PATH = \"datasets/train3\"\n",
    "VALID_PATH = \"datasets/valid\""
   ]
  },
  {
   "cell_type": "code",
   "execution_count": 13,
   "id": "50eb2b144d07c3f",
   "metadata": {
    "ExecuteTime": {
     "end_time": "2023-10-29T14:54:51.561770900Z",
     "start_time": "2023-10-29T14:54:50.797622400Z"
    },
    "collapsed": false
   },
   "outputs": [
    {
     "name": "stderr",
     "output_type": "stream",
     "text": [
      "100%|██████████| 717/717 [00:00<00:00, 968.13it/s] \n"
     ]
    }
   ],
   "source": [
    "os.makedirs(TRAIN_PATH, exist_ok=True)\n",
    "os.makedirs(VALID_PATH, exist_ok=True)\n",
    "\n",
    "os.makedirs(f\"{TRAIN_PATH}/images\", exist_ok=True)\n",
    "os.makedirs(f\"{TRAIN_PATH}/labels\", exist_ok=True)\n",
    "\n",
    "# os.makedirs(f\"{VALID_PATH}/images\", exist_ok=True)\n",
    "# os.makedirs(f\"{VALID_PATH}/labels\", exist_ok=True)\n",
    "\n",
    "for image in tqdm(glob(f\"{IMAGE_PATH}/*.jpg\")):\n",
    "    file_name = image.split(\"\\\\\")[-1].split(\".\")[0]\n",
    "\n",
    "    if os.path.isfile(f\"{LABEL_PATH}/{file_name}.txt\"):\n",
    "        shutil.copy(image, f\"{TRAIN_PATH}/images\")\n",
    "        shutil.copy(f\"{LABEL_PATH}/{file_name}.txt\", f\"{TRAIN_PATH}/labels\")"
   ]
  },
  {
   "cell_type": "code",
   "execution_count": 2,
   "id": "4a89e80c4baaded5",
   "metadata": {
    "ExecuteTime": {
     "end_time": "2023-10-29T14:21:39.347230100Z",
     "start_time": "2023-10-29T14:21:39.264510300Z"
    },
    "collapsed": false
   },
   "outputs": [],
   "source": [
    "model = YOLO('models/yolov8/best3.pt')"
   ]
  },
  {
   "cell_type": "code",
   "execution_count": null,
   "id": "1de4c4c82f675406",
   "metadata": {
    "collapsed": false,
    "is_executing": true
   },
   "outputs": [],
   "source": [
    "model.train(\n",
    "    data=\"datasets/data.yaml\",\n",
    "    model='models/yolov8/best3.pt',\n",
    "    epochs=100,\n",
    "    patience=20,\n",
    "    imgsz=256\n",
    ")"
   ]
  },
  {
   "cell_type": "code",
   "outputs": [
    {
     "name": "stdout",
     "output_type": "stream",
     "text": [
      "Ultralytics YOLOv8.1.9 🚀 Python-3.11.7 torch-2.2.0+cpu CPU (AMD Ryzen 5 5600G with Radeon Graphics)\n",
      "Model summary (fused): 168 layers, 3006038 parameters, 0 gradients, 8.1 GFLOPs\n",
      "\n",
      "\u001B[34m\u001B[1mPyTorch:\u001B[0m starting from '..\\models\\bubbles.pt' with input shape (1, 3, 256, 256) BCHW and output shape(s) (1, 6, 1344) (5.9 MB)\n",
      "\n",
      "\u001B[34m\u001B[1mONNX:\u001B[0m starting export with onnx 1.15.0 opset 17...\n",
      "\u001B[34m\u001B[1mONNX:\u001B[0m export success ✅ 0.7s, saved as '..\\models\\bubbles.onnx' (11.5 MB)\n",
      "\n",
      "Export complete (2.7s)\n",
      "Results saved to \u001B[1mC:\\Users\\Rusty\\Projects\\petpals-fishing\\models\u001B[0m\n",
      "Predict:         yolo predict task=detect model=..\\models\\bubbles.onnx imgsz=256  \n",
      "Validate:        yolo val task=detect model=..\\models\\bubbles.onnx imgsz=256 data=/content/data.yaml  \n",
      "Visualize:       https://netron.app\n"
     ]
    },
    {
     "data": {
      "text/plain": "'..\\\\models\\\\bubbles.onnx'"
     },
     "execution_count": 2,
     "metadata": {},
     "output_type": "execute_result"
    }
   ],
   "source": [
    "from ultralytics import YOLO\n",
    "\n",
    "model = YOLO(\"../models/bubbles.pt\")\n",
    "\n",
    "model.export(format='onnx')"
   ],
   "metadata": {
    "collapsed": false,
    "ExecuteTime": {
     "end_time": "2024-02-08T17:25:42.117554600Z",
     "start_time": "2024-02-08T17:25:39.278358Z"
    }
   },
   "id": "abca77accc9ff70",
   "execution_count": 2
  }
 ],
 "metadata": {
  "kernelspec": {
   "display_name": "Python 3",
   "language": "python",
   "name": "python3"
  },
  "language_info": {
   "codemirror_mode": {
    "name": "ipython",
    "version": 3
   },
   "file_extension": ".py",
   "mimetype": "text/x-python",
   "name": "python",
   "nbconvert_exporter": "python",
   "pygments_lexer": "ipython3",
   "version": "3.10.13"
  }
 },
 "nbformat": 4,
 "nbformat_minor": 5
}
