{
 "cells": [
  {
   "cell_type": "code",
   "execution_count": 1,
   "id": "initial_id",
   "metadata": {
    "collapsed": true,
    "ExecuteTime": {
     "end_time": "2024-02-08T06:41:36.850306900Z",
     "start_time": "2024-02-08T06:41:36.745836800Z"
    }
   },
   "outputs": [],
   "source": [
    "import cv2"
   ]
  },
  {
   "cell_type": "code",
   "execution_count": 2,
   "id": "8c10fdd1fffadbd2",
   "metadata": {
    "collapsed": false,
    "ExecuteTime": {
     "end_time": "2024-02-08T06:41:36.856565300Z",
     "start_time": "2024-02-08T06:41:36.850306900Z"
    }
   },
   "outputs": [],
   "source": [
    "VIDEO_PATH = \"../datasets/update3.mp4\"\n",
    "\n",
    "IMAGES_PATH = \"../datasets/raw/images1\""
   ]
  },
  {
   "cell_type": "code",
   "execution_count": 4,
   "id": "d662dea605e337b",
   "metadata": {
    "collapsed": false,
    "ExecuteTime": {
     "end_time": "2024-02-08T07:52:28.122797300Z",
     "start_time": "2024-02-08T07:52:05.720557800Z"
    }
   },
   "outputs": [],
   "source": [
    "%%time\n",
    "\n",
    "cam = cv2.VideoCapture(VIDEO_PATH)\n",
    "\n",
    "currentFrame = 0\n",
    "\n",
    "while True:\n",
    "\n",
    "    ret, frame = cam.read()\n",
    "\n",
    "    if ret:\n",
    "        if currentFrame % 4 == 0:\n",
    "            name = IMAGES_PATH + f\"/{currentFrame}\" + '.jpg'\n",
    "            cv2.imwrite(name, frame)\n",
    "\n",
    "        currentFrame += 1\n",
    "    else:\n",
    "        break\n",
    "\n",
    "cam.release()\n",
    "cv2.destroyAllWindows()"
   ]
  }
 ],
 "metadata": {
  "kernelspec": {
   "display_name": "Python 3",
   "language": "python",
   "name": "python3"
  },
  "language_info": {
   "codemirror_mode": {
    "name": "ipython",
    "version": 3
   },
   "file_extension": ".py",
   "mimetype": "text/x-python",
   "name": "python",
   "nbconvert_exporter": "python",
   "pygments_lexer": "ipython3",
   "version": "3.10.13"
  }
 },
 "nbformat": 4,
 "nbformat_minor": 5
}
