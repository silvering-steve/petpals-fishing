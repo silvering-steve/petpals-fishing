{
 "cells": [
  {
   "cell_type": "markdown",
   "id": "2bbaef06",
   "metadata": {},
   "source": [
    "## CLEAN DATA ##"
   ]
  },
  {
   "cell_type": "code",
   "execution_count": 1,
   "id": "a851d552",
   "metadata": {
    "ExecuteTime": {
     "end_time": "2024-02-08T07:51:40.829772Z",
     "start_time": "2024-02-08T07:51:40.821072Z"
    }
   },
   "outputs": [],
   "source": [
    "import os\n",
    "from glob import glob\n",
    "from tqdm import tqdm"
   ]
  },
  {
   "cell_type": "code",
   "execution_count": 4,
   "id": "b7f6c8be",
   "metadata": {
    "ExecuteTime": {
     "end_time": "2024-02-08T07:51:48.530571900Z",
     "start_time": "2024-02-08T07:51:48.526550200Z"
    }
   },
   "outputs": [],
   "source": [
    "IMAGES_PATH = \"../datasets/raw/images1\"\n",
    "LABELS_PATH = \"../datasets/raw/labels1\""
   ]
  },
  {
   "cell_type": "code",
   "execution_count": 9,
   "id": "d8442a84",
   "metadata": {
    "ExecuteTime": {
     "end_time": "2024-02-08T07:53:55.401364300Z",
     "start_time": "2024-02-08T07:53:55.324465500Z"
    }
   },
   "outputs": [
    {
     "name": "stderr",
     "output_type": "stream",
     "text": [
      "100%|██████████| 543/543 [00:00<00:00, 9262.30it/s]"
     ]
    },
    {
     "name": "stdout",
     "output_type": "stream",
     "text": [
      "CPU times: total: 78.1 ms\n",
      "Wall time: 63.2 ms\n"
     ]
    },
    {
     "name": "stderr",
     "output_type": "stream",
     "text": [
      "\n"
     ]
    }
   ],
   "source": [
    "%%time\n",
    "count = 0\n",
    "\n",
    "for image in tqdm(glob(f\"{IMAGES_PATH}/*.jpg\")):\n",
    "    image_name = image.split(\"/\")[-1].split(\".\")[0] + \".txt\"\n",
    "    image_name = image_name.split(\"\\\\\")[-1]\n",
    "    \n",
    "    if not os.path.exists(f\"{LABELS_PATH}/{image_name}\"):\n",
    "        os.remove(image)"
   ]
  },
  {
   "cell_type": "markdown",
   "id": "318543ea",
   "metadata": {},
   "source": [
    "## AUTO LABEL ##"
   ]
  },
  {
   "cell_type": "code",
   "execution_count": 16,
   "id": "initial_id",
   "metadata": {
    "ExecuteTime": {
     "end_time": "2023-10-29T14:28:31.266578700Z",
     "start_time": "2023-10-29T14:28:28.037400600Z"
    },
    "collapsed": true
   },
   "outputs": [],
   "source": [
    "from ultralytics import YOLO"
   ]
  },
  {
   "cell_type": "code",
   "execution_count": 17,
   "id": "2796fdb4eefbd53b",
   "metadata": {
    "ExecuteTime": {
     "end_time": "2023-10-29T14:31:45.028698500Z",
     "start_time": "2023-10-29T14:31:45.016620800Z"
    },
    "collapsed": false
   },
   "outputs": [],
   "source": [
    "MODEL_PATH = \"models/yolov8/best4.pt\""
   ]
  },
  {
   "cell_type": "code",
   "execution_count": 18,
   "id": "70715e6ce01ddf65",
   "metadata": {
    "ExecuteTime": {
     "end_time": "2023-10-29T14:31:49.239031100Z",
     "start_time": "2023-10-29T14:31:49.201424900Z"
    },
    "collapsed": false
   },
   "outputs": [],
   "source": [
    "model = YOLO(MODEL_PATH)"
   ]
  },
  {
   "cell_type": "code",
   "execution_count": 23,
   "id": "168c828674983cdd",
   "metadata": {
    "ExecuteTime": {
     "end_time": "2023-10-29T14:45:05.144289700Z",
     "start_time": "2023-10-29T14:44:17.785799300Z"
    },
    "collapsed": false
   },
   "outputs": [
    {
     "name": "stderr",
     "output_type": "stream",
     "text": [
      "  0%|          | 0/253 [00:00<?, ?it/s]"
     ]
    },
    {
     "name": "stdout",
     "output_type": "stream",
     "text": [
      "Results saved to \u001B[1mruns/detect/predict3\u001B[0m\n",
      "1 label saved to runs/detect/predict3/labels\n",
      "Results saved to \u001B[1mruns/detect/predict3\u001B[0m\n",
      "1 label saved to runs/detect/predict3/labels\n"
     ]
    },
    {
     "name": "stderr",
     "output_type": "stream",
     "text": [
      "  1%|          | 2/253 [00:00<00:17, 14.18it/s]"
     ]
    },
    {
     "name": "stdout",
     "output_type": "stream",
     "text": [
      "Results saved to \u001B[1mruns/detect/predict3\u001B[0m\n",
      "2 labels saved to runs/detect/predict3/labels\n",
      "Results saved to \u001B[1mruns/detect/predict3\u001B[0m\n",
      "2 labels saved to runs/detect/predict3/labels\n",
      "Results saved to \u001B[1mruns/detect/predict3\u001B[0m\n",
      "2 labels saved to runs/detect/predict3/labels\n"
     ]
    },
    {
     "name": "stderr",
     "output_type": "stream",
     "text": [
      "  2%|▏         | 5/253 [00:00<00:13, 18.94it/s]"
     ]
    },
    {
     "name": "stdout",
     "output_type": "stream",
     "text": [
      "Results saved to \u001B[1mruns/detect/predict3\u001B[0m\n",
      "2 labels saved to runs/detect/predict3/labels\n",
      "Results saved to \u001B[1mruns/detect/predict3\u001B[0m\n",
      "2 labels saved to runs/detect/predict3/labels\n",
      "Results saved to \u001B[1mruns/detect/predict3\u001B[0m\n",
      "2 labels saved to runs/detect/predict3/labels\n"
     ]
    },
    {
     "name": "stderr",
     "output_type": "stream",
     "text": [
      "  3%|▎         | 8/253 [00:00<00:11, 20.83it/s]"
     ]
    },
    {
     "name": "stdout",
     "output_type": "stream",
     "text": [
      "Results saved to \u001B[1mruns/detect/predict3\u001B[0m\n",
      "2 labels saved to runs/detect/predict3/labels\n",
      "Results saved to \u001B[1mruns/detect/predict3\u001B[0m\n",
      "3 labels saved to runs/detect/predict3/labels\n",
      "Results saved to \u001B[1mruns/detect/predict3\u001B[0m\n",
      "3 labels saved to runs/detect/predict3/labels\n"
     ]
    },
    {
     "name": "stderr",
     "output_type": "stream",
     "text": [
      "  4%|▍         | 11/253 [00:00<00:11, 21.65it/s]"
     ]
    },
    {
     "name": "stdout",
     "output_type": "stream",
     "text": [
      "Results saved to \u001B[1mruns/detect/predict3\u001B[0m\n",
      "3 labels saved to runs/detect/predict3/labels\n",
      "Results saved to \u001B[1mruns/detect/predict3\u001B[0m\n",
      "3 labels saved to runs/detect/predict3/labels\n",
      "Results saved to \u001B[1mruns/detect/predict3\u001B[0m\n",
      "3 labels saved to runs/detect/predict3/labels\n"
     ]
    },
    {
     "name": "stderr",
     "output_type": "stream",
     "text": [
      "  6%|▌         | 14/253 [00:00<00:11, 20.94it/s]"
     ]
    },
    {
     "name": "stdout",
     "output_type": "stream",
     "text": [
      "Results saved to \u001B[1mruns/detect/predict3\u001B[0m\n",
      "4 labels saved to runs/detect/predict3/labels\n",
      "Results saved to \u001B[1mruns/detect/predict3\u001B[0m\n",
      "4 labels saved to runs/detect/predict3/labels\n",
      "Results saved to \u001B[1mruns/detect/predict3\u001B[0m\n",
      "4 labels saved to runs/detect/predict3/labels\n"
     ]
    },
    {
     "name": "stderr",
     "output_type": "stream",
     "text": [
      "  7%|▋         | 17/253 [00:00<00:11, 21.05it/s]"
     ]
    },
    {
     "name": "stdout",
     "output_type": "stream",
     "text": [
      "Results saved to \u001B[1mruns/detect/predict3\u001B[0m\n",
      "4 labels saved to runs/detect/predict3/labels\n",
      "Results saved to \u001B[1mruns/detect/predict3\u001B[0m\n",
      "5 labels saved to runs/detect/predict3/labels\n",
      "Results saved to \u001B[1mruns/detect/predict3\u001B[0m\n",
      "5 labels saved to runs/detect/predict3/labels\n"
     ]
    },
    {
     "name": "stderr",
     "output_type": "stream",
     "text": [
      "  8%|▊         | 20/253 [00:00<00:11, 21.12it/s]"
     ]
    },
    {
     "name": "stdout",
     "output_type": "stream",
     "text": [
      "Results saved to \u001B[1mruns/detect/predict3\u001B[0m\n",
      "6 labels saved to runs/detect/predict3/labels\n",
      "Results saved to \u001B[1mruns/detect/predict3\u001B[0m\n",
      "6 labels saved to runs/detect/predict3/labels\n",
      "Results saved to \u001B[1mruns/detect/predict3\u001B[0m\n",
      "7 labels saved to runs/detect/predict3/labels\n"
     ]
    },
    {
     "name": "stderr",
     "output_type": "stream",
     "text": [
      "  9%|▉         | 23/253 [00:01<00:10, 21.14it/s]"
     ]
    },
    {
     "name": "stdout",
     "output_type": "stream",
     "text": [
      "Results saved to \u001B[1mruns/detect/predict3\u001B[0m\n",
      "8 labels saved to runs/detect/predict3/labels\n",
      "Results saved to \u001B[1mruns/detect/predict3\u001B[0m\n",
      "9 labels saved to runs/detect/predict3/labels\n",
      "Results saved to \u001B[1mruns/detect/predict3\u001B[0m\n",
      "9 labels saved to runs/detect/predict3/labels\n"
     ]
    },
    {
     "name": "stderr",
     "output_type": "stream",
     "text": [
      " 10%|█         | 26/253 [00:01<00:10, 21.24it/s]"
     ]
    },
    {
     "name": "stdout",
     "output_type": "stream",
     "text": [
      "Results saved to \u001B[1mruns/detect/predict3\u001B[0m\n",
      "10 labels saved to runs/detect/predict3/labels\n",
      "Results saved to \u001B[1mruns/detect/predict3\u001B[0m\n",
      "11 labels saved to runs/detect/predict3/labels\n",
      "Results saved to \u001B[1mruns/detect/predict3\u001B[0m\n",
      "12 labels saved to runs/detect/predict3/labels\n"
     ]
    },
    {
     "name": "stderr",
     "output_type": "stream",
     "text": [
      " 11%|█▏        | 29/253 [00:01<00:10, 20.44it/s]"
     ]
    },
    {
     "name": "stdout",
     "output_type": "stream",
     "text": [
      "Results saved to \u001B[1mruns/detect/predict3\u001B[0m\n",
      "12 labels saved to runs/detect/predict3/labels\n",
      "Results saved to \u001B[1mruns/detect/predict3\u001B[0m\n",
      "12 labels saved to runs/detect/predict3/labels\n",
      "Results saved to \u001B[1mruns/detect/predict3\u001B[0m\n",
      "12 labels saved to runs/detect/predict3/labels\n"
     ]
    },
    {
     "name": "stderr",
     "output_type": "stream",
     "text": [
      " 13%|█▎        | 32/253 [00:01<00:10, 20.92it/s]"
     ]
    },
    {
     "name": "stdout",
     "output_type": "stream",
     "text": [
      "Results saved to \u001B[1mruns/detect/predict3\u001B[0m\n",
      "13 labels saved to runs/detect/predict3/labels\n",
      "Results saved to \u001B[1mruns/detect/predict3\u001B[0m\n",
      "14 labels saved to runs/detect/predict3/labels\n",
      "Results saved to \u001B[1mruns/detect/predict3\u001B[0m\n",
      "15 labels saved to runs/detect/predict3/labels\n"
     ]
    },
    {
     "name": "stderr",
     "output_type": "stream",
     "text": [
      " 14%|█▍        | 35/253 [00:01<00:10, 21.06it/s]"
     ]
    },
    {
     "name": "stdout",
     "output_type": "stream",
     "text": [
      "Results saved to \u001B[1mruns/detect/predict3\u001B[0m\n",
      "15 labels saved to runs/detect/predict3/labels\n",
      "Results saved to \u001B[1mruns/detect/predict3\u001B[0m\n",
      "16 labels saved to runs/detect/predict3/labels\n",
      "Results saved to \u001B[1mruns/detect/predict3\u001B[0m\n",
      "16 labels saved to runs/detect/predict3/labels\n"
     ]
    },
    {
     "name": "stderr",
     "output_type": "stream",
     "text": [
      " 15%|█▌        | 38/253 [00:01<00:10, 21.26it/s]"
     ]
    },
    {
     "name": "stdout",
     "output_type": "stream",
     "text": [
      "Results saved to \u001B[1mruns/detect/predict3\u001B[0m\n",
      "16 labels saved to runs/detect/predict3/labels\n",
      "Results saved to \u001B[1mruns/detect/predict3\u001B[0m\n",
      "16 labels saved to runs/detect/predict3/labels\n",
      "Results saved to \u001B[1mruns/detect/predict3\u001B[0m\n",
      "17 labels saved to runs/detect/predict3/labels\n"
     ]
    },
    {
     "name": "stderr",
     "output_type": "stream",
     "text": [
      " 16%|█▌        | 41/253 [00:01<00:09, 21.66it/s]"
     ]
    },
    {
     "name": "stdout",
     "output_type": "stream",
     "text": [
      "Results saved to \u001B[1mruns/detect/predict3\u001B[0m\n",
      "18 labels saved to runs/detect/predict3/labels\n",
      "Results saved to \u001B[1mruns/detect/predict3\u001B[0m\n",
      "18 labels saved to runs/detect/predict3/labels\n",
      "Results saved to \u001B[1mruns/detect/predict3\u001B[0m\n",
      "18 labels saved to runs/detect/predict3/labels\n"
     ]
    },
    {
     "name": "stderr",
     "output_type": "stream",
     "text": [
      " 17%|█▋        | 44/253 [00:02<00:10, 20.44it/s]"
     ]
    },
    {
     "name": "stdout",
     "output_type": "stream",
     "text": [
      "Results saved to \u001B[1mruns/detect/predict3\u001B[0m\n",
      "18 labels saved to runs/detect/predict3/labels\n",
      "Results saved to \u001B[1mruns/detect/predict3\u001B[0m\n",
      "19 labels saved to runs/detect/predict3/labels\n",
      "Results saved to \u001B[1mruns/detect/predict3\u001B[0m\n",
      "20 labels saved to runs/detect/predict3/labels\n"
     ]
    },
    {
     "name": "stderr",
     "output_type": "stream",
     "text": [
      " 19%|█▊        | 47/253 [00:02<00:10, 19.85it/s]"
     ]
    },
    {
     "name": "stdout",
     "output_type": "stream",
     "text": [
      "Results saved to \u001B[1mruns/detect/predict3\u001B[0m\n",
      "20 labels saved to runs/detect/predict3/labels\n",
      "Results saved to \u001B[1mruns/detect/predict3\u001B[0m\n",
      "20 labels saved to runs/detect/predict3/labels\n",
      "Results saved to \u001B[1mruns/detect/predict3\u001B[0m\n",
      "21 labels saved to runs/detect/predict3/labels\n"
     ]
    },
    {
     "name": "stderr",
     "output_type": "stream",
     "text": [
      " 20%|█▉        | 50/253 [00:02<00:10, 20.20it/s]"
     ]
    },
    {
     "name": "stdout",
     "output_type": "stream",
     "text": [
      "Results saved to \u001B[1mruns/detect/predict3\u001B[0m\n",
      "22 labels saved to runs/detect/predict3/labels\n",
      "Results saved to \u001B[1mruns/detect/predict3\u001B[0m\n",
      "22 labels saved to runs/detect/predict3/labels\n",
      "Results saved to \u001B[1mruns/detect/predict3\u001B[0m\n",
      "23 labels saved to runs/detect/predict3/labels\n"
     ]
    },
    {
     "name": "stderr",
     "output_type": "stream",
     "text": [
      " 21%|██        | 53/253 [00:02<00:09, 20.50it/s]"
     ]
    },
    {
     "name": "stdout",
     "output_type": "stream",
     "text": [
      "Results saved to \u001B[1mruns/detect/predict3\u001B[0m\n",
      "23 labels saved to runs/detect/predict3/labels\n",
      "Results saved to \u001B[1mruns/detect/predict3\u001B[0m\n",
      "24 labels saved to runs/detect/predict3/labels\n",
      "Results saved to \u001B[1mruns/detect/predict3\u001B[0m\n",
      "25 labels saved to runs/detect/predict3/labels\n"
     ]
    },
    {
     "name": "stderr",
     "output_type": "stream",
     "text": [
      " 22%|██▏       | 56/253 [00:02<00:09, 20.50it/s]"
     ]
    },
    {
     "name": "stdout",
     "output_type": "stream",
     "text": [
      "Results saved to \u001B[1mruns/detect/predict3\u001B[0m\n",
      "26 labels saved to runs/detect/predict3/labels\n",
      "Results saved to \u001B[1mruns/detect/predict3\u001B[0m\n",
      "26 labels saved to runs/detect/predict3/labels\n",
      "Results saved to \u001B[1mruns/detect/predict3\u001B[0m\n",
      "27 labels saved to runs/detect/predict3/labels\n"
     ]
    },
    {
     "name": "stderr",
     "output_type": "stream",
     "text": [
      " 23%|██▎       | 59/253 [00:02<00:09, 20.82it/s]"
     ]
    },
    {
     "name": "stdout",
     "output_type": "stream",
     "text": [
      "Results saved to \u001B[1mruns/detect/predict3\u001B[0m\n",
      "28 labels saved to runs/detect/predict3/labels\n",
      "Results saved to \u001B[1mruns/detect/predict3\u001B[0m\n",
      "28 labels saved to runs/detect/predict3/labels\n",
      "Results saved to \u001B[1mruns/detect/predict3\u001B[0m\n",
      "28 labels saved to runs/detect/predict3/labels\n"
     ]
    },
    {
     "name": "stderr",
     "output_type": "stream",
     "text": [
      " 25%|██▍       | 62/253 [00:03<00:09, 20.38it/s]"
     ]
    },
    {
     "name": "stdout",
     "output_type": "stream",
     "text": [
      "Results saved to \u001B[1mruns/detect/predict3\u001B[0m\n",
      "28 labels saved to runs/detect/predict3/labels\n",
      "Results saved to \u001B[1mruns/detect/predict3\u001B[0m\n",
      "28 labels saved to runs/detect/predict3/labels\n",
      "Results saved to \u001B[1mruns/detect/predict3\u001B[0m\n",
      "28 labels saved to runs/detect/predict3/labels\n"
     ]
    },
    {
     "name": "stderr",
     "output_type": "stream",
     "text": [
      " 26%|██▌       | 65/253 [00:03<00:09, 20.61it/s]"
     ]
    },
    {
     "name": "stdout",
     "output_type": "stream",
     "text": [
      "Results saved to \u001B[1mruns/detect/predict3\u001B[0m\n",
      "28 labels saved to runs/detect/predict3/labels\n",
      "Results saved to \u001B[1mruns/detect/predict3\u001B[0m\n",
      "29 labels saved to runs/detect/predict3/labels\n",
      "Results saved to \u001B[1mruns/detect/predict3\u001B[0m\n",
      "29 labels saved to runs/detect/predict3/labels\n"
     ]
    },
    {
     "name": "stderr",
     "output_type": "stream",
     "text": [
      " 27%|██▋       | 68/253 [00:03<00:08, 20.72it/s]"
     ]
    },
    {
     "name": "stdout",
     "output_type": "stream",
     "text": [
      "Results saved to \u001B[1mruns/detect/predict3\u001B[0m\n",
      "30 labels saved to runs/detect/predict3/labels\n",
      "Results saved to \u001B[1mruns/detect/predict3\u001B[0m\n",
      "30 labels saved to runs/detect/predict3/labels\n",
      "Results saved to \u001B[1mruns/detect/predict3\u001B[0m\n",
      "30 labels saved to runs/detect/predict3/labels\n"
     ]
    },
    {
     "name": "stderr",
     "output_type": "stream",
     "text": [
      " 28%|██▊       | 71/253 [00:03<00:08, 20.68it/s]"
     ]
    },
    {
     "name": "stdout",
     "output_type": "stream",
     "text": [
      "Results saved to \u001B[1mruns/detect/predict3\u001B[0m\n",
      "31 labels saved to runs/detect/predict3/labels\n",
      "Results saved to \u001B[1mruns/detect/predict3\u001B[0m\n",
      "32 labels saved to runs/detect/predict3/labels\n",
      "Results saved to \u001B[1mruns/detect/predict3\u001B[0m\n",
      "33 labels saved to runs/detect/predict3/labels\n"
     ]
    },
    {
     "name": "stderr",
     "output_type": "stream",
     "text": [
      " 29%|██▉       | 74/253 [00:03<00:08, 20.67it/s]"
     ]
    },
    {
     "name": "stdout",
     "output_type": "stream",
     "text": [
      "Results saved to \u001B[1mruns/detect/predict3\u001B[0m\n",
      "33 labels saved to runs/detect/predict3/labels\n",
      "Results saved to \u001B[1mruns/detect/predict3\u001B[0m\n",
      "34 labels saved to runs/detect/predict3/labels\n",
      "Results saved to \u001B[1mruns/detect/predict3\u001B[0m\n",
      "35 labels saved to runs/detect/predict3/labels\n"
     ]
    },
    {
     "name": "stderr",
     "output_type": "stream",
     "text": [
      " 30%|███       | 77/253 [00:03<00:08, 21.04it/s]"
     ]
    },
    {
     "name": "stdout",
     "output_type": "stream",
     "text": [
      "Results saved to \u001B[1mruns/detect/predict3\u001B[0m\n",
      "35 labels saved to runs/detect/predict3/labels\n",
      "Results saved to \u001B[1mruns/detect/predict3\u001B[0m\n",
      "35 labels saved to runs/detect/predict3/labels\n",
      "Results saved to \u001B[1mruns/detect/predict3\u001B[0m\n",
      "35 labels saved to runs/detect/predict3/labels\n"
     ]
    },
    {
     "name": "stderr",
     "output_type": "stream",
     "text": [
      " 32%|███▏      | 80/253 [00:03<00:08, 21.59it/s]"
     ]
    },
    {
     "name": "stdout",
     "output_type": "stream",
     "text": [
      "Results saved to \u001B[1mruns/detect/predict3\u001B[0m\n",
      "36 labels saved to runs/detect/predict3/labels\n",
      "Results saved to \u001B[1mruns/detect/predict3\u001B[0m\n",
      "37 labels saved to runs/detect/predict3/labels\n",
      "Results saved to \u001B[1mruns/detect/predict3\u001B[0m\n",
      "37 labels saved to runs/detect/predict3/labels\n"
     ]
    },
    {
     "name": "stderr",
     "output_type": "stream",
     "text": [
      " 33%|███▎      | 83/253 [00:03<00:07, 21.68it/s]"
     ]
    },
    {
     "name": "stdout",
     "output_type": "stream",
     "text": [
      "Results saved to \u001B[1mruns/detect/predict3\u001B[0m\n",
      "38 labels saved to runs/detect/predict3/labels\n",
      "Results saved to \u001B[1mruns/detect/predict3\u001B[0m\n",
      "38 labels saved to runs/detect/predict3/labels\n",
      "Results saved to \u001B[1mruns/detect/predict3\u001B[0m\n",
      "38 labels saved to runs/detect/predict3/labels\n"
     ]
    },
    {
     "name": "stderr",
     "output_type": "stream",
     "text": [
      " 34%|███▍      | 86/253 [00:04<00:07, 21.85it/s]"
     ]
    },
    {
     "name": "stdout",
     "output_type": "stream",
     "text": [
      "Results saved to \u001B[1mruns/detect/predict3\u001B[0m\n",
      "39 labels saved to runs/detect/predict3/labels\n",
      "Results saved to \u001B[1mruns/detect/predict3\u001B[0m\n",
      "39 labels saved to runs/detect/predict3/labels\n",
      "Results saved to \u001B[1mruns/detect/predict3\u001B[0m\n",
      "39 labels saved to runs/detect/predict3/labels\n"
     ]
    },
    {
     "name": "stderr",
     "output_type": "stream",
     "text": [
      " 35%|███▌      | 89/253 [00:04<00:07, 21.83it/s]"
     ]
    },
    {
     "name": "stdout",
     "output_type": "stream",
     "text": [
      "Results saved to \u001B[1mruns/detect/predict3\u001B[0m\n",
      "39 labels saved to runs/detect/predict3/labels\n",
      "Results saved to \u001B[1mruns/detect/predict3\u001B[0m\n",
      "39 labels saved to runs/detect/predict3/labels\n",
      "Results saved to \u001B[1mruns/detect/predict3\u001B[0m\n",
      "40 labels saved to runs/detect/predict3/labels\n"
     ]
    },
    {
     "name": "stderr",
     "output_type": "stream",
     "text": [
      " 36%|███▋      | 92/253 [00:04<00:07, 21.85it/s]"
     ]
    },
    {
     "name": "stdout",
     "output_type": "stream",
     "text": [
      "Results saved to \u001B[1mruns/detect/predict3\u001B[0m\n",
      "40 labels saved to runs/detect/predict3/labels\n",
      "Results saved to \u001B[1mruns/detect/predict3\u001B[0m\n",
      "40 labels saved to runs/detect/predict3/labels\n",
      "Results saved to \u001B[1mruns/detect/predict3\u001B[0m\n",
      "40 labels saved to runs/detect/predict3/labels\n"
     ]
    },
    {
     "name": "stderr",
     "output_type": "stream",
     "text": [
      " 38%|███▊      | 95/253 [00:04<00:07, 21.89it/s]"
     ]
    },
    {
     "name": "stdout",
     "output_type": "stream",
     "text": [
      "Results saved to \u001B[1mruns/detect/predict3\u001B[0m\n",
      "41 labels saved to runs/detect/predict3/labels\n",
      "Results saved to \u001B[1mruns/detect/predict3\u001B[0m\n",
      "41 labels saved to runs/detect/predict3/labels\n",
      "Results saved to \u001B[1mruns/detect/predict3\u001B[0m\n",
      "42 labels saved to runs/detect/predict3/labels\n"
     ]
    },
    {
     "name": "stderr",
     "output_type": "stream",
     "text": [
      " 39%|███▊      | 98/253 [00:04<00:07, 21.91it/s]"
     ]
    },
    {
     "name": "stdout",
     "output_type": "stream",
     "text": [
      "Results saved to \u001B[1mruns/detect/predict3\u001B[0m\n",
      "42 labels saved to runs/detect/predict3/labels\n",
      "Results saved to \u001B[1mruns/detect/predict3\u001B[0m\n",
      "42 labels saved to runs/detect/predict3/labels\n",
      "Results saved to \u001B[1mruns/detect/predict3\u001B[0m\n",
      "43 labels saved to runs/detect/predict3/labels\n"
     ]
    },
    {
     "name": "stderr",
     "output_type": "stream",
     "text": [
      " 40%|███▉      | 101/253 [00:04<00:06, 22.09it/s]"
     ]
    },
    {
     "name": "stdout",
     "output_type": "stream",
     "text": [
      "Results saved to \u001B[1mruns/detect/predict3\u001B[0m\n",
      "43 labels saved to runs/detect/predict3/labels\n",
      "Results saved to \u001B[1mruns/detect/predict3\u001B[0m\n",
      "43 labels saved to runs/detect/predict3/labels\n",
      "Results saved to \u001B[1mruns/detect/predict3\u001B[0m\n",
      "44 labels saved to runs/detect/predict3/labels\n"
     ]
    },
    {
     "name": "stderr",
     "output_type": "stream",
     "text": [
      " 41%|████      | 104/253 [00:04<00:06, 22.20it/s]"
     ]
    },
    {
     "name": "stdout",
     "output_type": "stream",
     "text": [
      "Results saved to \u001B[1mruns/detect/predict3\u001B[0m\n",
      "45 labels saved to runs/detect/predict3/labels\n",
      "Results saved to \u001B[1mruns/detect/predict3\u001B[0m\n",
      "45 labels saved to runs/detect/predict3/labels\n",
      "Results saved to \u001B[1mruns/detect/predict3\u001B[0m\n",
      "45 labels saved to runs/detect/predict3/labels\n"
     ]
    },
    {
     "name": "stderr",
     "output_type": "stream",
     "text": [
      " 42%|████▏     | 107/253 [00:05<00:06, 22.35it/s]"
     ]
    },
    {
     "name": "stdout",
     "output_type": "stream",
     "text": [
      "Results saved to \u001B[1mruns/detect/predict3\u001B[0m\n",
      "46 labels saved to runs/detect/predict3/labels\n",
      "Results saved to \u001B[1mruns/detect/predict3\u001B[0m\n",
      "47 labels saved to runs/detect/predict3/labels\n",
      "Results saved to \u001B[1mruns/detect/predict3\u001B[0m\n",
      "47 labels saved to runs/detect/predict3/labels\n"
     ]
    },
    {
     "name": "stderr",
     "output_type": "stream",
     "text": [
      " 43%|████▎     | 110/253 [00:05<00:06, 22.19it/s]"
     ]
    },
    {
     "name": "stdout",
     "output_type": "stream",
     "text": [
      "Results saved to \u001B[1mruns/detect/predict3\u001B[0m\n",
      "47 labels saved to runs/detect/predict3/labels\n",
      "Results saved to \u001B[1mruns/detect/predict3\u001B[0m\n",
      "47 labels saved to runs/detect/predict3/labels\n",
      "Results saved to \u001B[1mruns/detect/predict3\u001B[0m\n",
      "47 labels saved to runs/detect/predict3/labels\n"
     ]
    },
    {
     "name": "stderr",
     "output_type": "stream",
     "text": [
      " 45%|████▍     | 113/253 [00:05<00:06, 22.29it/s]"
     ]
    },
    {
     "name": "stdout",
     "output_type": "stream",
     "text": [
      "Results saved to \u001B[1mruns/detect/predict3\u001B[0m\n",
      "48 labels saved to runs/detect/predict3/labels\n",
      "Results saved to \u001B[1mruns/detect/predict3\u001B[0m\n",
      "49 labels saved to runs/detect/predict3/labels\n",
      "Results saved to \u001B[1mruns/detect/predict3\u001B[0m\n",
      "49 labels saved to runs/detect/predict3/labels\n"
     ]
    },
    {
     "name": "stderr",
     "output_type": "stream",
     "text": [
      " 46%|████▌     | 116/253 [00:05<00:06, 22.17it/s]"
     ]
    },
    {
     "name": "stdout",
     "output_type": "stream",
     "text": [
      "Results saved to \u001B[1mruns/detect/predict3\u001B[0m\n",
      "50 labels saved to runs/detect/predict3/labels\n",
      "Results saved to \u001B[1mruns/detect/predict3\u001B[0m\n",
      "50 labels saved to runs/detect/predict3/labels\n",
      "Results saved to \u001B[1mruns/detect/predict3\u001B[0m\n",
      "51 labels saved to runs/detect/predict3/labels\n"
     ]
    },
    {
     "name": "stderr",
     "output_type": "stream",
     "text": [
      " 47%|████▋     | 119/253 [00:05<00:06, 22.09it/s]"
     ]
    },
    {
     "name": "stdout",
     "output_type": "stream",
     "text": [
      "Results saved to \u001B[1mruns/detect/predict3\u001B[0m\n",
      "51 labels saved to runs/detect/predict3/labels\n",
      "Results saved to \u001B[1mruns/detect/predict3\u001B[0m\n",
      "51 labels saved to runs/detect/predict3/labels\n",
      "Results saved to \u001B[1mruns/detect/predict3\u001B[0m\n",
      "52 labels saved to runs/detect/predict3/labels\n"
     ]
    },
    {
     "name": "stderr",
     "output_type": "stream",
     "text": [
      " 48%|████▊     | 122/253 [00:05<00:05, 22.06it/s]"
     ]
    },
    {
     "name": "stdout",
     "output_type": "stream",
     "text": [
      "Results saved to \u001B[1mruns/detect/predict3\u001B[0m\n",
      "53 labels saved to runs/detect/predict3/labels\n",
      "Results saved to \u001B[1mruns/detect/predict3\u001B[0m\n",
      "54 labels saved to runs/detect/predict3/labels\n",
      "Results saved to \u001B[1mruns/detect/predict3\u001B[0m\n",
      "54 labels saved to runs/detect/predict3/labels\n"
     ]
    },
    {
     "name": "stderr",
     "output_type": "stream",
     "text": [
      " 49%|████▉     | 125/253 [00:05<00:05, 21.95it/s]"
     ]
    },
    {
     "name": "stdout",
     "output_type": "stream",
     "text": [
      "Results saved to \u001B[1mruns/detect/predict3\u001B[0m\n",
      "55 labels saved to runs/detect/predict3/labels\n",
      "Results saved to \u001B[1mruns/detect/predict3\u001B[0m\n",
      "56 labels saved to runs/detect/predict3/labels\n",
      "Results saved to \u001B[1mruns/detect/predict3\u001B[0m\n",
      "56 labels saved to runs/detect/predict3/labels\n"
     ]
    },
    {
     "name": "stderr",
     "output_type": "stream",
     "text": [
      " 51%|█████     | 128/253 [00:06<00:05, 21.49it/s]"
     ]
    },
    {
     "name": "stdout",
     "output_type": "stream",
     "text": [
      "Results saved to \u001B[1mruns/detect/predict3\u001B[0m\n",
      "57 labels saved to runs/detect/predict3/labels\n",
      "Results saved to \u001B[1mruns/detect/predict3\u001B[0m\n",
      "57 labels saved to runs/detect/predict3/labels\n",
      "Results saved to \u001B[1mruns/detect/predict3\u001B[0m\n",
      "57 labels saved to runs/detect/predict3/labels\n"
     ]
    },
    {
     "name": "stderr",
     "output_type": "stream",
     "text": [
      " 52%|█████▏    | 131/253 [00:06<00:05, 21.47it/s]"
     ]
    },
    {
     "name": "stdout",
     "output_type": "stream",
     "text": [
      "Results saved to \u001B[1mruns/detect/predict3\u001B[0m\n",
      "57 labels saved to runs/detect/predict3/labels\n",
      "Results saved to \u001B[1mruns/detect/predict3\u001B[0m\n",
      "58 labels saved to runs/detect/predict3/labels\n",
      "Results saved to \u001B[1mruns/detect/predict3\u001B[0m\n",
      "59 labels saved to runs/detect/predict3/labels\n"
     ]
    },
    {
     "name": "stderr",
     "output_type": "stream",
     "text": [
      " 53%|█████▎    | 134/253 [00:06<00:05, 21.67it/s]"
     ]
    },
    {
     "name": "stdout",
     "output_type": "stream",
     "text": [
      "Results saved to \u001B[1mruns/detect/predict3\u001B[0m\n",
      "59 labels saved to runs/detect/predict3/labels\n",
      "Results saved to \u001B[1mruns/detect/predict3\u001B[0m\n",
      "60 labels saved to runs/detect/predict3/labels\n",
      "Results saved to \u001B[1mruns/detect/predict3\u001B[0m\n",
      "61 labels saved to runs/detect/predict3/labels\n"
     ]
    },
    {
     "name": "stderr",
     "output_type": "stream",
     "text": [
      " 54%|█████▍    | 137/253 [00:06<00:05, 20.38it/s]"
     ]
    },
    {
     "name": "stdout",
     "output_type": "stream",
     "text": [
      "Results saved to \u001B[1mruns/detect/predict3\u001B[0m\n",
      "62 labels saved to runs/detect/predict3/labels\n",
      "Results saved to \u001B[1mruns/detect/predict3\u001B[0m\n",
      "62 labels saved to runs/detect/predict3/labels\n",
      "Results saved to \u001B[1mruns/detect/predict3\u001B[0m\n",
      "63 labels saved to runs/detect/predict3/labels\n"
     ]
    },
    {
     "name": "stderr",
     "output_type": "stream",
     "text": [
      " 55%|█████▌    | 140/253 [00:06<00:05, 20.86it/s]"
     ]
    },
    {
     "name": "stdout",
     "output_type": "stream",
     "text": [
      "Results saved to \u001B[1mruns/detect/predict3\u001B[0m\n",
      "63 labels saved to runs/detect/predict3/labels\n",
      "Results saved to \u001B[1mruns/detect/predict3\u001B[0m\n",
      "64 labels saved to runs/detect/predict3/labels\n",
      "Results saved to \u001B[1mruns/detect/predict3\u001B[0m\n",
      "64 labels saved to runs/detect/predict3/labels\n"
     ]
    },
    {
     "name": "stderr",
     "output_type": "stream",
     "text": [
      " 57%|█████▋    | 143/253 [00:06<00:05, 21.21it/s]"
     ]
    },
    {
     "name": "stdout",
     "output_type": "stream",
     "text": [
      "Results saved to \u001B[1mruns/detect/predict3\u001B[0m\n",
      "65 labels saved to runs/detect/predict3/labels\n",
      "Results saved to \u001B[1mruns/detect/predict3\u001B[0m\n",
      "65 labels saved to runs/detect/predict3/labels\n",
      "Results saved to \u001B[1mruns/detect/predict3\u001B[0m\n",
      "65 labels saved to runs/detect/predict3/labels\n"
     ]
    },
    {
     "name": "stderr",
     "output_type": "stream",
     "text": [
      " 58%|█████▊    | 146/253 [00:06<00:04, 21.42it/s]"
     ]
    },
    {
     "name": "stdout",
     "output_type": "stream",
     "text": [
      "Results saved to \u001B[1mruns/detect/predict3\u001B[0m\n",
      "66 labels saved to runs/detect/predict3/labels\n",
      "Results saved to \u001B[1mruns/detect/predict3\u001B[0m\n",
      "66 labels saved to runs/detect/predict3/labels\n",
      "Results saved to \u001B[1mruns/detect/predict3\u001B[0m\n",
      "67 labels saved to runs/detect/predict3/labels\n"
     ]
    },
    {
     "name": "stderr",
     "output_type": "stream",
     "text": [
      " 59%|█████▉    | 149/253 [00:07<00:04, 21.63it/s]"
     ]
    },
    {
     "name": "stdout",
     "output_type": "stream",
     "text": [
      "Results saved to \u001B[1mruns/detect/predict3\u001B[0m\n",
      "67 labels saved to runs/detect/predict3/labels\n",
      "Results saved to \u001B[1mruns/detect/predict3\u001B[0m\n",
      "67 labels saved to runs/detect/predict3/labels\n",
      "Results saved to \u001B[1mruns/detect/predict3\u001B[0m\n",
      "68 labels saved to runs/detect/predict3/labels\n"
     ]
    },
    {
     "name": "stderr",
     "output_type": "stream",
     "text": [
      " 60%|██████    | 152/253 [00:07<00:04, 21.84it/s]"
     ]
    },
    {
     "name": "stdout",
     "output_type": "stream",
     "text": [
      "Results saved to \u001B[1mruns/detect/predict3\u001B[0m\n",
      "69 labels saved to runs/detect/predict3/labels\n",
      "Results saved to \u001B[1mruns/detect/predict3\u001B[0m\n",
      "69 labels saved to runs/detect/predict3/labels\n",
      "Results saved to \u001B[1mruns/detect/predict3\u001B[0m\n",
      "69 labels saved to runs/detect/predict3/labels\n"
     ]
    },
    {
     "name": "stderr",
     "output_type": "stream",
     "text": [
      " 61%|██████▏   | 155/253 [00:07<00:04, 21.79it/s]"
     ]
    },
    {
     "name": "stdout",
     "output_type": "stream",
     "text": [
      "Results saved to \u001B[1mruns/detect/predict3\u001B[0m\n",
      "70 labels saved to runs/detect/predict3/labels\n",
      "Results saved to \u001B[1mruns/detect/predict3\u001B[0m\n",
      "70 labels saved to runs/detect/predict3/labels\n",
      "Results saved to \u001B[1mruns/detect/predict3\u001B[0m\n",
      "70 labels saved to runs/detect/predict3/labels\n"
     ]
    },
    {
     "name": "stderr",
     "output_type": "stream",
     "text": [
      " 62%|██████▏   | 158/253 [00:07<00:04, 21.38it/s]"
     ]
    },
    {
     "name": "stdout",
     "output_type": "stream",
     "text": [
      "Results saved to \u001B[1mruns/detect/predict3\u001B[0m\n",
      "70 labels saved to runs/detect/predict3/labels\n",
      "Results saved to \u001B[1mruns/detect/predict3\u001B[0m\n",
      "71 labels saved to runs/detect/predict3/labels\n",
      "Results saved to \u001B[1mruns/detect/predict3\u001B[0m\n",
      "72 labels saved to runs/detect/predict3/labels\n"
     ]
    },
    {
     "name": "stderr",
     "output_type": "stream",
     "text": [
      " 64%|██████▎   | 161/253 [00:07<00:04, 20.92it/s]"
     ]
    },
    {
     "name": "stdout",
     "output_type": "stream",
     "text": [
      "Results saved to \u001B[1mruns/detect/predict3\u001B[0m\n",
      "72 labels saved to runs/detect/predict3/labels\n",
      "Results saved to \u001B[1mruns/detect/predict3\u001B[0m\n",
      "73 labels saved to runs/detect/predict3/labels\n",
      "Results saved to \u001B[1mruns/detect/predict3\u001B[0m\n",
      "74 labels saved to runs/detect/predict3/labels\n"
     ]
    },
    {
     "name": "stderr",
     "output_type": "stream",
     "text": [
      " 65%|██████▍   | 164/253 [00:07<00:04, 20.73it/s]"
     ]
    },
    {
     "name": "stdout",
     "output_type": "stream",
     "text": [
      "Results saved to \u001B[1mruns/detect/predict3\u001B[0m\n",
      "74 labels saved to runs/detect/predict3/labels\n",
      "Results saved to \u001B[1mruns/detect/predict3\u001B[0m\n",
      "75 labels saved to runs/detect/predict3/labels\n",
      "Results saved to \u001B[1mruns/detect/predict3\u001B[0m\n",
      "75 labels saved to runs/detect/predict3/labels\n"
     ]
    },
    {
     "name": "stderr",
     "output_type": "stream",
     "text": [
      " 66%|██████▌   | 167/253 [00:07<00:04, 20.68it/s]"
     ]
    },
    {
     "name": "stdout",
     "output_type": "stream",
     "text": [
      "Results saved to \u001B[1mruns/detect/predict3\u001B[0m\n",
      "75 labels saved to runs/detect/predict3/labels\n",
      "Results saved to \u001B[1mruns/detect/predict3\u001B[0m\n",
      "76 labels saved to runs/detect/predict3/labels\n",
      "Results saved to \u001B[1mruns/detect/predict3\u001B[0m\n",
      "77 labels saved to runs/detect/predict3/labels\n"
     ]
    },
    {
     "name": "stderr",
     "output_type": "stream",
     "text": [
      " 67%|██████▋   | 170/253 [00:08<00:04, 20.55it/s]"
     ]
    },
    {
     "name": "stdout",
     "output_type": "stream",
     "text": [
      "Results saved to \u001B[1mruns/detect/predict3\u001B[0m\n",
      "78 labels saved to runs/detect/predict3/labels\n",
      "Results saved to \u001B[1mruns/detect/predict3\u001B[0m\n",
      "78 labels saved to runs/detect/predict3/labels\n",
      "Results saved to \u001B[1mruns/detect/predict3\u001B[0m\n",
      "78 labels saved to runs/detect/predict3/labels\n"
     ]
    },
    {
     "name": "stderr",
     "output_type": "stream",
     "text": [
      " 68%|██████▊   | 173/253 [00:08<00:03, 20.61it/s]"
     ]
    },
    {
     "name": "stdout",
     "output_type": "stream",
     "text": [
      "Results saved to \u001B[1mruns/detect/predict3\u001B[0m\n",
      "78 labels saved to runs/detect/predict3/labels\n",
      "Results saved to \u001B[1mruns/detect/predict3\u001B[0m\n",
      "78 labels saved to runs/detect/predict3/labels\n",
      "Results saved to \u001B[1mruns/detect/predict3\u001B[0m\n",
      "78 labels saved to runs/detect/predict3/labels\n"
     ]
    },
    {
     "name": "stderr",
     "output_type": "stream",
     "text": [
      " 70%|██████▉   | 176/253 [00:08<00:03, 20.83it/s]"
     ]
    },
    {
     "name": "stdout",
     "output_type": "stream",
     "text": [
      "Results saved to \u001B[1mruns/detect/predict3\u001B[0m\n",
      "78 labels saved to runs/detect/predict3/labels\n",
      "Results saved to \u001B[1mruns/detect/predict3\u001B[0m\n",
      "78 labels saved to runs/detect/predict3/labels\n",
      "Results saved to \u001B[1mruns/detect/predict3\u001B[0m\n",
      "79 labels saved to runs/detect/predict3/labels\n"
     ]
    },
    {
     "name": "stderr",
     "output_type": "stream",
     "text": [
      " 71%|███████   | 179/253 [00:08<00:03, 21.12it/s]"
     ]
    },
    {
     "name": "stdout",
     "output_type": "stream",
     "text": [
      "Results saved to \u001B[1mruns/detect/predict3\u001B[0m\n",
      "79 labels saved to runs/detect/predict3/labels\n",
      "Results saved to \u001B[1mruns/detect/predict3\u001B[0m\n",
      "80 labels saved to runs/detect/predict3/labels\n",
      "Results saved to \u001B[1mruns/detect/predict3\u001B[0m\n",
      "80 labels saved to runs/detect/predict3/labels\n"
     ]
    },
    {
     "name": "stderr",
     "output_type": "stream",
     "text": [
      " 72%|███████▏  | 182/253 [00:08<00:03, 21.33it/s]"
     ]
    },
    {
     "name": "stdout",
     "output_type": "stream",
     "text": [
      "Results saved to \u001B[1mruns/detect/predict3\u001B[0m\n",
      "80 labels saved to runs/detect/predict3/labels\n",
      "Results saved to \u001B[1mruns/detect/predict3\u001B[0m\n",
      "80 labels saved to runs/detect/predict3/labels\n",
      "Results saved to \u001B[1mruns/detect/predict3\u001B[0m\n",
      "81 labels saved to runs/detect/predict3/labels\n"
     ]
    },
    {
     "name": "stderr",
     "output_type": "stream",
     "text": [
      " 73%|███████▎  | 185/253 [00:08<00:03, 21.57it/s]"
     ]
    },
    {
     "name": "stdout",
     "output_type": "stream",
     "text": [
      "Results saved to \u001B[1mruns/detect/predict3\u001B[0m\n",
      "82 labels saved to runs/detect/predict3/labels\n",
      "Results saved to \u001B[1mruns/detect/predict3\u001B[0m\n",
      "83 labels saved to runs/detect/predict3/labels\n",
      "Results saved to \u001B[1mruns/detect/predict3\u001B[0m\n",
      "84 labels saved to runs/detect/predict3/labels\n"
     ]
    },
    {
     "name": "stderr",
     "output_type": "stream",
     "text": [
      " 74%|███████▍  | 188/253 [00:08<00:02, 21.70it/s]"
     ]
    },
    {
     "name": "stdout",
     "output_type": "stream",
     "text": [
      "Results saved to \u001B[1mruns/detect/predict3\u001B[0m\n",
      "84 labels saved to runs/detect/predict3/labels\n",
      "Results saved to \u001B[1mruns/detect/predict3\u001B[0m\n",
      "85 labels saved to runs/detect/predict3/labels\n",
      "Results saved to \u001B[1mruns/detect/predict3\u001B[0m\n",
      "85 labels saved to runs/detect/predict3/labels\n"
     ]
    },
    {
     "name": "stderr",
     "output_type": "stream",
     "text": [
      " 75%|███████▌  | 191/253 [00:08<00:02, 21.98it/s]"
     ]
    },
    {
     "name": "stdout",
     "output_type": "stream",
     "text": [
      "Results saved to \u001B[1mruns/detect/predict3\u001B[0m\n",
      "85 labels saved to runs/detect/predict3/labels\n",
      "Results saved to \u001B[1mruns/detect/predict3\u001B[0m\n",
      "85 labels saved to runs/detect/predict3/labels\n",
      "Results saved to \u001B[1mruns/detect/predict3\u001B[0m\n",
      "86 labels saved to runs/detect/predict3/labels\n"
     ]
    },
    {
     "name": "stderr",
     "output_type": "stream",
     "text": [
      " 77%|███████▋  | 194/253 [00:09<00:02, 21.19it/s]"
     ]
    },
    {
     "name": "stdout",
     "output_type": "stream",
     "text": [
      "Results saved to \u001B[1mruns/detect/predict3\u001B[0m\n",
      "86 labels saved to runs/detect/predict3/labels\n",
      "Results saved to \u001B[1mruns/detect/predict3\u001B[0m\n",
      "87 labels saved to runs/detect/predict3/labels\n",
      "Results saved to \u001B[1mruns/detect/predict3\u001B[0m\n",
      "88 labels saved to runs/detect/predict3/labels\n"
     ]
    },
    {
     "name": "stderr",
     "output_type": "stream",
     "text": [
      " 78%|███████▊  | 197/253 [00:09<00:02, 20.89it/s]"
     ]
    },
    {
     "name": "stdout",
     "output_type": "stream",
     "text": [
      "Results saved to \u001B[1mruns/detect/predict3\u001B[0m\n",
      "88 labels saved to runs/detect/predict3/labels\n",
      "Results saved to \u001B[1mruns/detect/predict3\u001B[0m\n",
      "88 labels saved to runs/detect/predict3/labels\n",
      "Results saved to \u001B[1mruns/detect/predict3\u001B[0m\n",
      "88 labels saved to runs/detect/predict3/labels\n"
     ]
    },
    {
     "name": "stderr",
     "output_type": "stream",
     "text": [
      " 79%|███████▉  | 200/253 [00:09<00:02, 20.36it/s]"
     ]
    },
    {
     "name": "stdout",
     "output_type": "stream",
     "text": [
      "Results saved to \u001B[1mruns/detect/predict3\u001B[0m\n",
      "88 labels saved to runs/detect/predict3/labels\n",
      "Results saved to \u001B[1mruns/detect/predict3\u001B[0m\n",
      "88 labels saved to runs/detect/predict3/labels\n",
      "Results saved to \u001B[1mruns/detect/predict3\u001B[0m\n",
      "89 labels saved to runs/detect/predict3/labels\n"
     ]
    },
    {
     "name": "stderr",
     "output_type": "stream",
     "text": [
      " 80%|████████  | 203/253 [00:09<00:02, 20.28it/s]"
     ]
    },
    {
     "name": "stdout",
     "output_type": "stream",
     "text": [
      "Results saved to \u001B[1mruns/detect/predict3\u001B[0m\n",
      "89 labels saved to runs/detect/predict3/labels\n",
      "Results saved to \u001B[1mruns/detect/predict3\u001B[0m\n",
      "89 labels saved to runs/detect/predict3/labels\n",
      "Results saved to \u001B[1mruns/detect/predict3\u001B[0m\n",
      "89 labels saved to runs/detect/predict3/labels\n"
     ]
    },
    {
     "name": "stderr",
     "output_type": "stream",
     "text": [
      " 81%|████████▏ | 206/253 [00:09<00:02, 20.48it/s]"
     ]
    },
    {
     "name": "stdout",
     "output_type": "stream",
     "text": [
      "Results saved to \u001B[1mruns/detect/predict3\u001B[0m\n",
      "89 labels saved to runs/detect/predict3/labels\n",
      "Results saved to \u001B[1mruns/detect/predict3\u001B[0m\n",
      "90 labels saved to runs/detect/predict3/labels\n",
      "Results saved to \u001B[1mruns/detect/predict3\u001B[0m\n",
      "90 labels saved to runs/detect/predict3/labels\n"
     ]
    },
    {
     "name": "stderr",
     "output_type": "stream",
     "text": [
      " 83%|████████▎ | 209/253 [00:09<00:02, 20.79it/s]"
     ]
    },
    {
     "name": "stdout",
     "output_type": "stream",
     "text": [
      "Results saved to \u001B[1mruns/detect/predict3\u001B[0m\n",
      "90 labels saved to runs/detect/predict3/labels\n",
      "Results saved to \u001B[1mruns/detect/predict3\u001B[0m\n",
      "90 labels saved to runs/detect/predict3/labels\n",
      "Results saved to \u001B[1mruns/detect/predict3\u001B[0m\n",
      "90 labels saved to runs/detect/predict3/labels\n"
     ]
    },
    {
     "name": "stderr",
     "output_type": "stream",
     "text": [
      " 84%|████████▍ | 212/253 [00:10<00:01, 21.24it/s]"
     ]
    },
    {
     "name": "stdout",
     "output_type": "stream",
     "text": [
      "Results saved to \u001B[1mruns/detect/predict3\u001B[0m\n",
      "90 labels saved to runs/detect/predict3/labels\n",
      "Results saved to \u001B[1mruns/detect/predict3\u001B[0m\n",
      "90 labels saved to runs/detect/predict3/labels\n",
      "Results saved to \u001B[1mruns/detect/predict3\u001B[0m\n",
      "91 labels saved to runs/detect/predict3/labels\n"
     ]
    },
    {
     "name": "stderr",
     "output_type": "stream",
     "text": [
      " 85%|████████▍ | 215/253 [00:10<00:01, 21.13it/s]"
     ]
    },
    {
     "name": "stdout",
     "output_type": "stream",
     "text": [
      "Results saved to \u001B[1mruns/detect/predict3\u001B[0m\n",
      "92 labels saved to runs/detect/predict3/labels\n",
      "Results saved to \u001B[1mruns/detect/predict3\u001B[0m\n",
      "93 labels saved to runs/detect/predict3/labels\n",
      "Results saved to \u001B[1mruns/detect/predict3\u001B[0m\n",
      "93 labels saved to runs/detect/predict3/labels\n"
     ]
    },
    {
     "name": "stderr",
     "output_type": "stream",
     "text": [
      " 86%|████████▌ | 218/253 [00:10<00:01, 20.83it/s]"
     ]
    },
    {
     "name": "stdout",
     "output_type": "stream",
     "text": [
      "Results saved to \u001B[1mruns/detect/predict3\u001B[0m\n",
      "94 labels saved to runs/detect/predict3/labels\n",
      "Results saved to \u001B[1mruns/detect/predict3\u001B[0m\n",
      "95 labels saved to runs/detect/predict3/labels\n",
      "Results saved to \u001B[1mruns/detect/predict3\u001B[0m\n",
      "96 labels saved to runs/detect/predict3/labels\n"
     ]
    },
    {
     "name": "stderr",
     "output_type": "stream",
     "text": [
      " 87%|████████▋ | 221/253 [00:10<00:01, 20.59it/s]"
     ]
    },
    {
     "name": "stdout",
     "output_type": "stream",
     "text": [
      "Results saved to \u001B[1mruns/detect/predict3\u001B[0m\n",
      "97 labels saved to runs/detect/predict3/labels\n",
      "Results saved to \u001B[1mruns/detect/predict3\u001B[0m\n",
      "97 labels saved to runs/detect/predict3/labels\n",
      "Results saved to \u001B[1mruns/detect/predict3\u001B[0m\n",
      "97 labels saved to runs/detect/predict3/labels\n"
     ]
    },
    {
     "name": "stderr",
     "output_type": "stream",
     "text": [
      " 89%|████████▊ | 224/253 [00:10<00:01, 20.43it/s]"
     ]
    },
    {
     "name": "stdout",
     "output_type": "stream",
     "text": [
      "Results saved to \u001B[1mruns/detect/predict3\u001B[0m\n",
      "97 labels saved to runs/detect/predict3/labels\n",
      "Results saved to \u001B[1mruns/detect/predict3\u001B[0m\n",
      "97 labels saved to runs/detect/predict3/labels\n",
      "Results saved to \u001B[1mruns/detect/predict3\u001B[0m\n",
      "98 labels saved to runs/detect/predict3/labels\n"
     ]
    },
    {
     "name": "stderr",
     "output_type": "stream",
     "text": [
      " 90%|████████▉ | 227/253 [00:10<00:01, 19.70it/s]"
     ]
    },
    {
     "name": "stdout",
     "output_type": "stream",
     "text": [
      "Results saved to \u001B[1mruns/detect/predict3\u001B[0m\n",
      "99 labels saved to runs/detect/predict3/labels\n",
      "Results saved to \u001B[1mruns/detect/predict3\u001B[0m\n",
      "99 labels saved to runs/detect/predict3/labels\n"
     ]
    },
    {
     "name": "stderr",
     "output_type": "stream",
     "text": [
      " 91%|█████████ | 229/253 [00:10<00:01, 19.44it/s]"
     ]
    },
    {
     "name": "stdout",
     "output_type": "stream",
     "text": [
      "Results saved to \u001B[1mruns/detect/predict3\u001B[0m\n",
      "99 labels saved to runs/detect/predict3/labels\n",
      "Results saved to \u001B[1mruns/detect/predict3\u001B[0m\n",
      "99 labels saved to runs/detect/predict3/labels\n"
     ]
    },
    {
     "name": "stderr",
     "output_type": "stream",
     "text": [
      " 91%|█████████▏| 231/253 [00:10<00:01, 19.04it/s]"
     ]
    },
    {
     "name": "stdout",
     "output_type": "stream",
     "text": [
      "Results saved to \u001B[1mruns/detect/predict3\u001B[0m\n",
      "99 labels saved to runs/detect/predict3/labels\n",
      "Results saved to \u001B[1mruns/detect/predict3\u001B[0m\n",
      "99 labels saved to runs/detect/predict3/labels\n",
      "Results saved to \u001B[1mruns/detect/predict3\u001B[0m\n",
      "99 labels saved to runs/detect/predict3/labels\n"
     ]
    },
    {
     "name": "stderr",
     "output_type": "stream",
     "text": [
      " 92%|█████████▏| 234/253 [00:11<00:00, 19.52it/s]"
     ]
    },
    {
     "name": "stdout",
     "output_type": "stream",
     "text": [
      "Results saved to \u001B[1mruns/detect/predict3\u001B[0m\n",
      "100 labels saved to runs/detect/predict3/labels\n",
      "Results saved to \u001B[1mruns/detect/predict3\u001B[0m\n",
      "100 labels saved to runs/detect/predict3/labels\n",
      "Results saved to \u001B[1mruns/detect/predict3\u001B[0m\n",
      "100 labels saved to runs/detect/predict3/labels\n"
     ]
    },
    {
     "name": "stderr",
     "output_type": "stream",
     "text": [
      " 94%|█████████▎| 237/253 [00:11<00:00, 20.19it/s]"
     ]
    },
    {
     "name": "stdout",
     "output_type": "stream",
     "text": [
      "Results saved to \u001B[1mruns/detect/predict3\u001B[0m\n",
      "100 labels saved to runs/detect/predict3/labels\n",
      "Results saved to \u001B[1mruns/detect/predict3\u001B[0m\n",
      "100 labels saved to runs/detect/predict3/labels\n",
      "Results saved to \u001B[1mruns/detect/predict3\u001B[0m\n",
      "101 labels saved to runs/detect/predict3/labels\n"
     ]
    },
    {
     "name": "stderr",
     "output_type": "stream",
     "text": [
      " 95%|█████████▍| 240/253 [00:11<00:00, 19.93it/s]"
     ]
    },
    {
     "name": "stdout",
     "output_type": "stream",
     "text": [
      "Results saved to \u001B[1mruns/detect/predict3\u001B[0m\n",
      "101 labels saved to runs/detect/predict3/labels\n",
      "Results saved to \u001B[1mruns/detect/predict3\u001B[0m\n",
      "101 labels saved to runs/detect/predict3/labels\n"
     ]
    },
    {
     "name": "stderr",
     "output_type": "stream",
     "text": [
      " 96%|█████████▌| 242/253 [00:11<00:00, 19.90it/s]"
     ]
    },
    {
     "name": "stdout",
     "output_type": "stream",
     "text": [
      "Results saved to \u001B[1mruns/detect/predict3\u001B[0m\n",
      "101 labels saved to runs/detect/predict3/labels\n",
      "Results saved to \u001B[1mruns/detect/predict3\u001B[0m\n",
      "101 labels saved to runs/detect/predict3/labels\n"
     ]
    },
    {
     "name": "stderr",
     "output_type": "stream",
     "text": [
      " 96%|█████████▋| 244/253 [00:11<00:00, 19.63it/s]"
     ]
    },
    {
     "name": "stdout",
     "output_type": "stream",
     "text": [
      "Results saved to \u001B[1mruns/detect/predict3\u001B[0m\n",
      "101 labels saved to runs/detect/predict3/labels\n",
      "Results saved to \u001B[1mruns/detect/predict3\u001B[0m\n",
      "101 labels saved to runs/detect/predict3/labels\n",
      "Results saved to \u001B[1mruns/detect/predict3\u001B[0m\n",
      "101 labels saved to runs/detect/predict3/labels\n"
     ]
    },
    {
     "name": "stderr",
     "output_type": "stream",
     "text": [
      " 98%|█████████▊| 247/253 [00:11<00:00, 20.06it/s]"
     ]
    },
    {
     "name": "stdout",
     "output_type": "stream",
     "text": [
      "Results saved to \u001B[1mruns/detect/predict3\u001B[0m\n",
      "101 labels saved to runs/detect/predict3/labels\n",
      "Results saved to \u001B[1mruns/detect/predict3\u001B[0m\n",
      "101 labels saved to runs/detect/predict3/labels\n",
      "Results saved to \u001B[1mruns/detect/predict3\u001B[0m\n",
      "101 labels saved to runs/detect/predict3/labels\n"
     ]
    },
    {
     "name": "stderr",
     "output_type": "stream",
     "text": [
      " 99%|█████████▉| 250/253 [00:11<00:00, 20.31it/s]"
     ]
    },
    {
     "name": "stdout",
     "output_type": "stream",
     "text": [
      "Results saved to \u001B[1mruns/detect/predict3\u001B[0m\n",
      "101 labels saved to runs/detect/predict3/labels\n",
      "Results saved to \u001B[1mruns/detect/predict3\u001B[0m\n",
      "101 labels saved to runs/detect/predict3/labels\n",
      "Results saved to \u001B[1mruns/detect/predict3\u001B[0m\n",
      "101 labels saved to runs/detect/predict3/labels\n"
     ]
    },
    {
     "name": "stderr",
     "output_type": "stream",
     "text": [
      "100%|██████████| 253/253 [00:12<00:00, 20.95it/s]\n"
     ]
    }
   ],
   "source": [
    "for image in tqdm(glob(f\"{IMAGES_PATH}/*.jpg\")):\n",
    "    model(image, save_txt=True, save=True, verbose=False, conf=0.9)"
   ]
  },
  {
   "cell_type": "code",
   "execution_count": 7,
   "id": "fc2cf1cd0aa65835",
   "metadata": {
    "ExecuteTime": {
     "end_time": "2023-10-29T14:51:22.062700800Z",
     "start_time": "2023-10-29T14:51:21.981326400Z"
    },
    "collapsed": false
   },
   "outputs": [
    {
     "name": "stderr",
     "output_type": "stream",
     "text": [
      "\n",
      "image 1/1 C:\\Users\\rusty\\Repositories\\petpals-fishing\\datasets\\raw\\images3\\3340.jpg: 384x640 1 point, 51.6ms\n",
      "Speed: 1.5ms preprocess, 51.6ms inference, 1.0ms postprocess per image at shape (1, 3, 384, 640)\n",
      "Results saved to \u001B[1mruns\\detect\\predict\u001B[0m\n",
      "2 labels saved to runs\\detect\\predict\\labels\n"
     ]
    },
    {
     "data": {
      "text/plain": [
       "[ultralytics.engine.results.Results object with attributes:\n",
       " \n",
       " boxes: ultralytics.engine.results.Boxes object\n",
       " keypoints: None\n",
       " masks: None\n",
       " names: {0: 'point'}\n",
       " orig_img: array([[[119, 215, 178],\n",
       "         [119, 215, 178],\n",
       "         [119, 215, 178],\n",
       "         ...,\n",
       "         [119, 215, 178],\n",
       "         [119, 215, 178],\n",
       "         [119, 215, 178]],\n",
       " \n",
       "        [[119, 215, 178],\n",
       "         [119, 215, 178],\n",
       "         [119, 215, 178],\n",
       "         ...,\n",
       "         [119, 215, 178],\n",
       "         [119, 215, 178],\n",
       "         [119, 215, 178]],\n",
       " \n",
       "        [[119, 215, 178],\n",
       "         [119, 215, 178],\n",
       "         [119, 215, 178],\n",
       "         ...,\n",
       "         [119, 215, 178],\n",
       "         [119, 215, 178],\n",
       "         [119, 215, 178]],\n",
       " \n",
       "        ...,\n",
       " \n",
       "        [[ 85, 174, 105],\n",
       "         [ 85, 174, 105],\n",
       "         [ 85, 174, 105],\n",
       "         ...,\n",
       "         [ 85, 174, 105],\n",
       "         [ 85, 174, 105],\n",
       "         [ 85, 174, 105]],\n",
       " \n",
       "        [[ 85, 174, 105],\n",
       "         [ 85, 174, 105],\n",
       "         [ 85, 174, 105],\n",
       "         ...,\n",
       "         [ 85, 174, 105],\n",
       "         [ 85, 174, 105],\n",
       "         [ 85, 174, 105]],\n",
       " \n",
       "        [[ 85, 174, 105],\n",
       "         [ 85, 174, 105],\n",
       "         [ 85, 174, 105],\n",
       "         ...,\n",
       "         [ 85, 174, 105],\n",
       "         [ 85, 174, 105],\n",
       "         [ 85, 174, 105]]], dtype=uint8)\n",
       " orig_shape: (720, 1280)\n",
       " path: 'C:\\\\Users\\\\rusty\\\\Repositories\\\\petpals-fishing\\\\datasets\\\\raw\\\\images3\\\\3340.jpg'\n",
       " probs: None\n",
       " save_dir: 'runs\\\\detect\\\\predict'\n",
       " speed: {'preprocess': 1.5037059783935547, 'inference': 51.61881446838379, 'postprocess': 1.001119613647461}]"
      ]
     },
     "execution_count": 7,
     "metadata": {},
     "output_type": "execute_result"
    }
   ],
   "source": [
    "model(\"datasets/raw/images3/3340.jpg\")"
   ]
  }
 ],
 "metadata": {
  "kernelspec": {
   "display_name": "Python 3",
   "language": "python",
   "name": "python3"
  },
  "language_info": {
   "codemirror_mode": {
    "name": "ipython",
    "version": 3
   },
   "file_extension": ".py",
   "mimetype": "text/x-python",
   "name": "python",
   "nbconvert_exporter": "python",
   "pygments_lexer": "ipython3",
   "version": "3.10.13"
  }
 },
 "nbformat": 4,
 "nbformat_minor": 5
}
