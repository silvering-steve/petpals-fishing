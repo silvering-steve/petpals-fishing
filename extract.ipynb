{
 "cells": [
  {
   "cell_type": "code",
   "execution_count": 1,
   "id": "initial_id",
   "metadata": {
    "collapsed": true,
    "ExecuteTime": {
     "end_time": "2023-10-29T12:28:45.269202100Z",
     "start_time": "2023-10-29T12:28:45.133551600Z"
    }
   },
   "outputs": [],
   "source": [
    "import cv2\n",
    "import os"
   ]
  },
  {
   "cell_type": "code",
   "execution_count": 7,
   "outputs": [],
   "source": [
    "VIDEO_PATH = \"datasets/video/halloween4.mp4\"\n",
    "\n",
    "IMAGES_PATH = \"datasets/raw/images3\""
   ],
   "metadata": {
    "collapsed": false,
    "ExecuteTime": {
     "end_time": "2023-10-29T14:19:43.103696Z",
     "start_time": "2023-10-29T14:19:43.098168100Z"
    }
   },
   "id": "8c10fdd1fffadbd2"
  },
  {
   "cell_type": "code",
   "execution_count": 8,
   "outputs": [],
   "source": [
    "cam = cv2.VideoCapture(VIDEO_PATH)\n",
    "\n",
    "currentFrame = 1144\n",
    "\n",
    "while True:\n",
    "    \n",
    "    ret, frame = cam.read()\n",
    "    \n",
    "    if ret:\n",
    "        if currentFrame % 4 == 0:\n",
    "            name = IMAGES_PATH + f\"/{currentFrame}\" + '.jpg'\n",
    "            cv2.imwrite(name, frame)\n",
    "            \n",
    "        currentFrame += 1\n",
    "    else:\n",
    "        break\n",
    "        \n",
    "cam.release()\n",
    "cv2.destroyAllWindows()"
   ],
   "metadata": {
    "collapsed": false,
    "ExecuteTime": {
     "end_time": "2023-10-29T14:19:57.248917800Z",
     "start_time": "2023-10-29T14:19:44.461306500Z"
    }
   },
   "id": "d662dea605e337b"
  }
 ],
 "metadata": {
  "kernelspec": {
   "display_name": "Python 3",
   "language": "python",
   "name": "python3"
  },
  "language_info": {
   "codemirror_mode": {
    "name": "ipython",
    "version": 2
   },
   "file_extension": ".py",
   "mimetype": "text/x-python",
   "name": "python",
   "nbconvert_exporter": "python",
   "pygments_lexer": "ipython2",
   "version": "2.7.6"
  }
 },
 "nbformat": 4,
 "nbformat_minor": 5
}
