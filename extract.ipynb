{
 "cells": [
  {
   "cell_type": "code",
   "execution_count": 1,
   "id": "initial_id",
   "metadata": {
    "ExecuteTime": {
     "end_time": "2023-10-29T12:28:45.269202100Z",
     "start_time": "2023-10-29T12:28:45.133551600Z"
    },
    "collapsed": true
   },
   "outputs": [],
   "source": [
    "import cv2\n",
    "import os"
   ]
  },
  {
   "cell_type": "code",
   "execution_count": 4,
   "id": "8c10fdd1fffadbd2",
   "metadata": {
    "ExecuteTime": {
     "end_time": "2023-10-29T14:19:43.103696Z",
     "start_time": "2023-10-29T14:19:43.098168100Z"
    },
    "collapsed": false
   },
   "outputs": [],
   "source": [
    "VIDEO_PATH = \"datasets/video/update2.mp4\"\n",
    "\n",
    "IMAGES_PATH = \"datasets/raw/images5\""
   ]
  },
  {
   "cell_type": "code",
   "execution_count": 5,
   "id": "d662dea605e337b",
   "metadata": {
    "ExecuteTime": {
     "end_time": "2023-10-29T14:19:57.248917800Z",
     "start_time": "2023-10-29T14:19:44.461306500Z"
    },
    "collapsed": false
   },
   "outputs": [],
   "source": [
    "cam = cv2.VideoCapture(VIDEO_PATH)\n",
    "\n",
    "currentFrame = 0\n",
    "\n",
    "while True:\n",
    "    \n",
    "    ret, frame = cam.read()\n",
    "    \n",
    "    if ret:\n",
    "        if currentFrame % 4 == 0:\n",
    "            name = IMAGES_PATH + f\"/{currentFrame}\" + '.jpg'\n",
    "            cv2.imwrite(name, frame)\n",
    "            \n",
    "        currentFrame += 1\n",
    "    else:\n",
    "        break\n",
    "        \n",
    "cam.release()\n",
    "cv2.destroyAllWindows()"
   ]
  }
 ],
 "metadata": {
  "kernelspec": {
   "display_name": "Python 3",
   "language": "python",
   "name": "python3"
  },
  "language_info": {
   "codemirror_mode": {
    "name": "ipython",
    "version": 3
   },
   "file_extension": ".py",
   "mimetype": "text/x-python",
   "name": "python",
   "nbconvert_exporter": "python",
   "pygments_lexer": "ipython3",
   "version": "3.10.13"
  }
 },
 "nbformat": 4,
 "nbformat_minor": 5
}
